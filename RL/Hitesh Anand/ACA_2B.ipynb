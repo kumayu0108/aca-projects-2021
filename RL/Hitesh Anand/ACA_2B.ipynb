{
 "cells": [
  {
   "cell_type": "code",
   "execution_count": 48,
   "metadata": {},
   "outputs": [],
   "source": [
    "import numpy as np\n",
    "import matplotlib.pyplot as plt"
   ]
  },
  {
   "cell_type": "code",
   "execution_count": 49,
   "metadata": {},
   "outputs": [],
   "source": [
    "import pandas as pd"
   ]
  },
  {
   "cell_type": "code",
   "execution_count": 50,
   "metadata": {},
   "outputs": [],
   "source": [
    "dataset = pd.read_csv(r\"C:\\Users\\DELL\\Downloads\\Machine Learning A-Z (Codes and Datasets)\\Part 2 - Regression\\Section 4 - Simple Linear Regression\\Python\\Salary_Data.csv\")\n",
    "X = dataset.iloc[:,:-1].values\n",
    "Y = dataset.iloc[:,-1].values"
   ]
  },
  {
   "cell_type": "code",
   "execution_count": 51,
   "metadata": {},
   "outputs": [
    {
     "name": "stdout",
     "output_type": "stream",
     "text": [
      "[[ 1.1]\n",
      " [ 1.3]\n",
      " [ 1.5]\n",
      " [ 2. ]\n",
      " [ 2.2]\n",
      " [ 2.9]\n",
      " [ 3. ]\n",
      " [ 3.2]\n",
      " [ 3.2]\n",
      " [ 3.7]\n",
      " [ 3.9]\n",
      " [ 4. ]\n",
      " [ 4. ]\n",
      " [ 4.1]\n",
      " [ 4.5]\n",
      " [ 4.9]\n",
      " [ 5.1]\n",
      " [ 5.3]\n",
      " [ 5.9]\n",
      " [ 6. ]\n",
      " [ 6.8]\n",
      " [ 7.1]\n",
      " [ 7.9]\n",
      " [ 8.2]\n",
      " [ 8.7]\n",
      " [ 9. ]\n",
      " [ 9.5]\n",
      " [ 9.6]\n",
      " [10.3]\n",
      " [10.5]]\n"
     ]
    }
   ],
   "source": [
    "print(X)"
   ]
  },
  {
   "cell_type": "code",
   "execution_count": 52,
   "metadata": {},
   "outputs": [
    {
     "name": "stdout",
     "output_type": "stream",
     "text": [
      "[ 39343.  46205.  37731.  43525.  39891.  56642.  60150.  54445.  64445.\n",
      "  57189.  63218.  55794.  56957.  57081.  61111.  67938.  66029.  83088.\n",
      "  81363.  93940.  91738.  98273. 101302. 113812. 109431. 105582. 116969.\n",
      " 112635. 122391. 121872.]\n"
     ]
    }
   ],
   "source": [
    "print(Y)"
   ]
  },
  {
   "cell_type": "code",
   "execution_count": 53,
   "metadata": {},
   "outputs": [
    {
     "name": "stdout",
     "output_type": "stream",
     "text": [
      "[10.5]\n"
     ]
    }
   ],
   "source": [
    "print(X[29])"
   ]
  },
  {
   "cell_type": "code",
   "execution_count": 105,
   "metadata": {},
   "outputs": [],
   "source": [
    "def gradientdesc(a0, a1, a, n, X, Y, limit, costs):\n",
    "    j=0\n",
    "    J = 0\n",
    "    for i in range(n):\n",
    "        J+= (a0 + a1*X[i]-Y[i])**2\n",
    "    J = J/(2*n)\n",
    "    k = 0\n",
    "    while(J>limit):\n",
    "        if j==30:\n",
    "            j=0\n",
    "            k+= 1\n",
    "#         if k==30:\n",
    "#             break\n",
    "        costs.append(J)\n",
    "#         plt.plot(j,J)\n",
    "        J = 0\n",
    "        temp1 = a1 - a*X[j]*(a0+a1*X[j]-Y[j])/n\n",
    "        temp0 = a0 - a*(a0+a1*X[j]-Y[j])/n\n",
    "        a1 = temp1\n",
    "        a0 = temp0\n",
    "        for i in range(n):\n",
    "            J+= (a0 + a1*X[i]-Y[i])**2\n",
    "        J = J/(2*n)\n",
    "        j+= 1\n",
    "    return (a0, a1)"
   ]
  },
  {
   "cell_type": "code",
   "execution_count": 106,
   "metadata": {},
   "outputs": [],
   "source": [
    "def cost(a0, a1, X, Y, n):\n",
    "    J = 0\n",
    "    for i in range(n):\n",
    "        J+= (a0 + a1*X[i]-Y[i])**2\n",
    "    J = J/(2*n)\n",
    "    return J"
   ]
  },
  {
   "cell_type": "code",
   "execution_count": 107,
   "metadata": {},
   "outputs": [
    {
     "name": "stdout",
     "output_type": "stream",
     "text": [
      "[1.11702128]\n"
     ]
    }
   ],
   "source": [
    "print(max(X))"
   ]
  },
  {
   "cell_type": "code",
   "execution_count": 108,
   "metadata": {},
   "outputs": [],
   "source": [
    "def featureScaling(X, n):\n",
    "    denom = max(X) - min(X)\n",
    "    print(denom)\n",
    "    for i in range(n):\n",
    "        X[i] = X[i]/denom\n",
    "    return X"
   ]
  },
  {
   "cell_type": "code",
   "execution_count": 109,
   "metadata": {},
   "outputs": [
    {
     "name": "stdout",
     "output_type": "stream",
     "text": [
      "[1.]\n",
      "1.0\n"
     ]
    }
   ],
   "source": [
    "X = featureScaling(X, 30)\n",
    "Y = featureScaling(Y, 30)"
   ]
  },
  {
   "cell_type": "code",
   "execution_count": 110,
   "metadata": {},
   "outputs": [
    {
     "name": "stdout",
     "output_type": "stream",
     "text": [
      "[[0.11702128]\n",
      " [0.13829787]\n",
      " [0.15957447]\n",
      " [0.21276596]\n",
      " [0.23404255]\n",
      " [0.30851064]\n",
      " [0.31914894]\n",
      " [0.34042553]\n",
      " [0.34042553]\n",
      " [0.39361702]\n",
      " [0.41489362]\n",
      " [0.42553191]\n",
      " [0.42553191]\n",
      " [0.43617021]\n",
      " [0.4787234 ]\n",
      " [0.5212766 ]\n",
      " [0.54255319]\n",
      " [0.56382979]\n",
      " [0.62765957]\n",
      " [0.63829787]\n",
      " [0.72340426]\n",
      " [0.75531915]\n",
      " [0.84042553]\n",
      " [0.87234043]\n",
      " [0.92553191]\n",
      " [0.95744681]\n",
      " [1.0106383 ]\n",
      " [1.0212766 ]\n",
      " [1.09574468]\n",
      " [1.11702128]]\n"
     ]
    }
   ],
   "source": [
    "print(X)"
   ]
  },
  {
   "cell_type": "code",
   "execution_count": 111,
   "metadata": {},
   "outputs": [
    {
     "name": "stdout",
     "output_type": "stream",
     "text": [
      "[0.46471769 0.54577132 0.44567682 0.51411528 0.47119064 0.66905268\n",
      " 0.71048901 0.64310182 0.76122136 0.67551382 0.74672809 0.65903614\n",
      " 0.67277345 0.67423813 0.7218403  0.80248051 0.77993149 0.98143161\n",
      " 0.96105599 1.10961493 1.08360501 1.16079613 1.19657453 1.34434207\n",
      " 1.29259391 1.2471297  1.38163241 1.3304394  1.44567682 1.43954642]\n"
     ]
    }
   ],
   "source": [
    "print(Y)"
   ]
  },
  {
   "cell_type": "code",
   "execution_count": 112,
   "metadata": {},
   "outputs": [
    {
     "name": "stdout",
     "output_type": "stream",
     "text": [
      "[0.80184196]\n"
     ]
    }
   ],
   "source": [
    "J = cost(1,2,X,Y,30)\n",
    "print(J)"
   ]
  },
  {
   "cell_type": "code",
   "execution_count": 113,
   "metadata": {},
   "outputs": [],
   "source": [
    "a0 = 1\n",
    "a1 = 2\n",
    "n = 30\n",
    "a = 0.1\n",
    "costs = []\n",
    "final = gradientdesc(a0, a1, a, n, X, Y, 0.01, costs)"
   ]
  },
  {
   "cell_type": "code",
   "execution_count": 114,
   "metadata": {},
   "outputs": [
    {
     "name": "stdout",
     "output_type": "stream",
     "text": [
      "(array([0.14897987]), array([1.42484358]))\n"
     ]
    }
   ],
   "source": [
    "print(final)"
   ]
  },
  {
   "cell_type": "code",
   "execution_count": 115,
   "metadata": {},
   "outputs": [
    {
     "name": "stdout",
     "output_type": "stream",
     "text": [
      "[0.00999938]\n"
     ]
    }
   ],
   "source": [
    "J = cost(final[0], final[1], X, Y, 30)\n",
    "print(J)"
   ]
  },
  {
   "cell_type": "code",
   "execution_count": 116,
   "metadata": {},
   "outputs": [
    {
     "data": {
      "text/plain": [
       "[<matplotlib.lines.Line2D at 0x1d349fdddf0>]"
      ]
     },
     "execution_count": 116,
     "metadata": {},
     "output_type": "execute_result"
    },
    {
     "data": {
      "image/png": "[encoded data removed]",
      "text/plain": [
       "<Figure size 432x288 with 1 Axes>"
      ]
     },
     "metadata": {
      "needs_background": "light"
     },
     "output_type": "display_data"
    }
   ],
   "source": [
    "plt.plot(costs)"
   ]
  },
  {
   "cell_type": "code",
   "execution_count": 117,
   "metadata": {},
   "outputs": [],
   "source": [
    "a0 = 1\n",
    "a1 = 2\n",
    "n = 30\n",
    "a = 0.01\n",
    "costs = []\n",
    "final = gradientdesc(a0, a1, a, n, X, Y, 0.01, costs)"
   ]
  },
  {
   "cell_type": "code",
   "execution_count": 118,
   "metadata": {},
   "outputs": [
    {
     "data": {
      "text/plain": [
       "Text(0, 0.5, 'Cost function')"
      ]
     },
     "execution_count": 118,
     "metadata": {},
     "output_type": "execute_result"
    },
    {
     "data": {
      "image/png": "[encoded data removed]",
      "text/plain": [
       "<Figure size 432x288 with 1 Axes>"
      ]
     },
     "metadata": {
      "needs_background": "light"
     },
     "output_type": "display_data"
    }
   ],
   "source": [
    "plt.plot(costs)\n",
    "plt.xlabel(\"Number of iterations\")\n",
    "plt.ylabel(\"Cost function\")"
   ]
  },
  {
   "cell_type": "code",
   "execution_count": 120,
   "metadata": {},
   "outputs": [],
   "source": [
    "a0 = 100\n",
    "a1 = 200\n",
    "n = 30\n",
    "a = 0.01\n",
    "costs = []\n",
    "final = gradientdesc(a0, a1, a, n, X, Y, 0.01, costs)"
   ]
  },
  {
   "cell_type": "code",
   "execution_count": 121,
   "metadata": {},
   "outputs": [
    {
     "data": {
      "text/plain": [
       "Text(0, 0.5, 'Cost function')"
      ]
     },
     "execution_count": 121,
     "metadata": {},
     "output_type": "execute_result"
    },
    {
     "data": {
      "image/png": "[encoded data removed]",
      "text/plain": [
       "<Figure size 432x288 with 1 Axes>"
      ]
     },
     "metadata": {
      "needs_background": "light"
     },
     "output_type": "display_data"
    }
   ],
   "source": [
    "plt.plot(costs)\n",
    "plt.xlabel(\"Number of iterations\")\n",
    "plt.ylabel(\"Cost function\")"
   ]
  },
  {
   "cell_type": "code",
   "execution_count": 122,
   "metadata": {},
   "outputs": [],
   "source": [
    "# Summary:\n",
    "\n",
    "# For the given dataset, optimal value of learning rate alpha is found to be 0.1. On further decreasing its value to 0.01 and then \n",
    "# to 0.001, the model takes more number of iterations to converge.\n",
    "\n",
    "# Also we have to apply feature scaling before performing gradient descent for an efficient run.\n",
    "\n",
    "# also on increasing the initial values of coefficients, the convergence time increases significantly."
   ]
  },
  {
   "cell_type": "code",
   "execution_count": 177,
   "metadata": {},
   "outputs": [],
   "source": [
    "a0 = 1\n",
    "a1 = 2\n",
    "n = 30\n",
    "a = 0.1\n",
    "costs = []\n",
    "final = gradientdesc(a0, a1, a, n, X, Y, 0.01, costs)"
   ]
  },
  {
   "cell_type": "code",
   "execution_count": 178,
   "metadata": {},
   "outputs": [
    {
     "name": "stdout",
     "output_type": "stream",
     "text": [
      "(array([0.14897987]), array([1.42484358]))\n"
     ]
    }
   ],
   "source": [
    "print(final)"
   ]
  },
  {
   "cell_type": "code",
   "execution_count": 179,
   "metadata": {},
   "outputs": [
    {
     "data": {
      "image/png": "[encoded data removed]",
      "text/plain": [
       "<Figure size 432x288 with 1 Axes>"
      ]
     },
     "metadata": {
      "needs_background": "light"
     },
     "output_type": "display_data"
    }
   ],
   "source": [
    "plt.scatter(X, Y)\n",
    "x = [0,0.25,0.5,0.75,1,1.25]\n",
    "y = final[0] + final[1]*x\n",
    "plt.plot(x, y)\n",
    "plt.grid()\n",
    "plt.show()"
   ]
  },
  {
   "cell_type": "code",
   "execution_count": null,
   "metadata": {},
   "outputs": [],
   "source": []
  }
 ],
 "metadata": {
  "kernelspec": {
   "display_name": "Python 3",
   "language": "python",
   "name": "python3"
  },
  "language_info": {
   "codemirror_mode": {
    "name": "ipython",
    "version": 3
   },
   "file_extension": ".py",
   "mimetype": "text/x-python",
   "name": "python",
   "nbconvert_exporter": "python",
   "pygments_lexer": "ipython3",
   "version": "3.8.5"
  }
 },
 "nbformat": 4,
 "nbformat_minor": 4
}

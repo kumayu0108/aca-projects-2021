{
 "cells": [
  {
   "cell_type": "code",
   "execution_count": 70,
   "metadata": {},
   "outputs": [],
   "source": [
    "import numpy as np\n",
    "import matplotlib.pyplot as plt"
   ]
  },
  {
   "cell_type": "code",
   "execution_count": 71,
   "metadata": {},
   "outputs": [],
   "source": [
    "import pandas as pd"
   ]
  },
  {
   "cell_type": "code",
   "execution_count": 73,
   "metadata": {},
   "outputs": [],
   "source": [
    "dataset = pd.read_csv(r\"C:\\Users\\DELL\\Downloads\\Machine Learning A-Z (Codes and Datasets)\\Part 2 - Regression\\Section 5 - Multiple Linear Regression\\Python\\50_Startups.csv\")\n",
    "X = dataset.iloc[:,:-1].values\n",
    "Y = dataset.iloc[:,-1].values"
   ]
  },
  {
   "cell_type": "code",
   "execution_count": 74,
   "metadata": {},
   "outputs": [
    {
     "name": "stdout",
     "output_type": "stream",
     "text": [
      "[[165349.2 136897.8 471784.1 'New York']\n",
      " [162597.7 151377.59 443898.53 'California']\n",
      " [153441.51 101145.55 407934.54 'Florida']\n",
      " [144372.41 118671.85 383199.62 'New York']\n",
      " [142107.34 91391.77 366168.42 'Florida']\n",
      " [131876.9 99814.71 362861.36 'New York']\n",
      " [134615.46 147198.87 127716.82 'California']\n",
      " [130298.13 145530.06 323876.68 'Florida']\n",
      " [120542.52 148718.95 311613.29 'New York']\n",
      " [123334.88 108679.17 304981.62 'California']\n",
      " [101913.08 110594.11 229160.95 'Florida']\n",
      " [100671.96 91790.61 249744.55 'California']\n",
      " [93863.75 127320.38 249839.44 'Florida']\n",
      " [91992.39 135495.07 252664.93 'California']\n",
      " [119943.24 156547.42 256512.92 'Florida']\n",
      " [114523.61 122616.84 261776.23 'New York']\n",
      " [78013.11 121597.55 264346.06 'California']\n",
      " [94657.16 145077.58 282574.31 'New York']\n",
      " [91749.16 114175.79 294919.57 'Florida']\n",
      " [86419.7 153514.11 0.0 'New York']\n",
      " [76253.86 113867.3 298664.47 'California']\n",
      " [78389.47 153773.43 299737.29 'New York']\n",
      " [73994.56 122782.75 303319.26 'Florida']\n",
      " [67532.53 105751.03 304768.73 'Florida']\n",
      " [77044.01 99281.34 140574.81 'New York']\n",
      " [64664.71 139553.16 137962.62 'California']\n",
      " [75328.87 144135.98 134050.07 'Florida']\n",
      " [72107.6 127864.55 353183.81 'New York']\n",
      " [66051.52 182645.56 118148.2 'Florida']\n",
      " [65605.48 153032.06 107138.38 'New York']\n",
      " [61994.48 115641.28 91131.24 'Florida']\n",
      " [61136.38 152701.92 88218.23 'New York']\n",
      " [63408.86 129219.61 46085.25 'California']\n",
      " [55493.95 103057.49 214634.81 'Florida']\n",
      " [46426.07 157693.92 210797.67 'California']\n",
      " [46014.02 85047.44 205517.64 'New York']\n",
      " [28663.76 127056.21 201126.82 'Florida']\n",
      " [44069.95 51283.14 197029.42 'California']\n",
      " [20229.59 65947.93 185265.1 'New York']\n",
      " [38558.51 82982.09 174999.3 'California']\n",
      " [28754.33 118546.05 172795.67 'California']\n",
      " [27892.92 84710.77 164470.71 'Florida']\n",
      " [23640.93 96189.63 148001.11 'California']\n",
      " [15505.73 127382.3 35534.17 'New York']\n",
      " [22177.74 154806.14 28334.72 'California']\n",
      " [1000.23 124153.04 1903.93 'New York']\n",
      " [1315.46 115816.21 297114.46 'Florida']\n",
      " [0.0 135426.92 0.0 'California']\n",
      " [542.05 51743.15 0.0 'New York']\n",
      " [0.0 116983.8 45173.06 'California']]\n"
     ]
    }
   ],
   "source": [
    "print(X)"
   ]
  },
  {
   "cell_type": "code",
   "execution_count": 75,
   "metadata": {},
   "outputs": [
    {
     "name": "stdout",
     "output_type": "stream",
     "text": [
      "[192261.83 191792.06 191050.39 182901.99 166187.94 156991.12 156122.51\n",
      " 155752.6  152211.77 149759.96 146121.95 144259.4  141585.52 134307.35\n",
      " 132602.65 129917.04 126992.93 125370.37 124266.9  122776.86 118474.03\n",
      " 111313.02 110352.25 108733.99 108552.04 107404.34 105733.54 105008.31\n",
      " 103282.38 101004.64  99937.59  97483.56  97427.84  96778.92  96712.8\n",
      "  96479.51  90708.19  89949.14  81229.06  81005.76  78239.91  77798.83\n",
      "  71498.49  69758.98  65200.33  64926.08  49490.75  42559.73  35673.41\n",
      "  14681.4 ]\n"
     ]
    }
   ],
   "source": [
    "print(Y)"
   ]
  },
  {
   "cell_type": "code",
   "execution_count": 76,
   "metadata": {},
   "outputs": [],
   "source": [
    "def featureScaling(X, n):\n",
    "    denom = max(X) - min(X)\n",
    "    print(denom)\n",
    "    for i in range(n):\n",
    "        X[i] = X[i]/denom\n",
    "    return X"
   ]
  },
  {
   "cell_type": "code",
   "execution_count": 77,
   "metadata": {},
   "outputs": [
    {
     "name": "stdout",
     "output_type": "stream",
     "text": [
      "50\n"
     ]
    }
   ],
   "source": [
    "print(len(X))"
   ]
  },
  {
   "cell_type": "code",
   "execution_count": 78,
   "metadata": {},
   "outputs": [],
   "source": [
    "for i in range(50):\n",
    "    if X[i][3] == 'New York':\n",
    "        X[i][3] = 0\n",
    "    elif X[i][3] == 'California':\n",
    "        X[i][3] = 1\n",
    "    else:\n",
    "        X[i][3] = 2"
   ]
  },
  {
   "cell_type": "code",
   "execution_count": 79,
   "metadata": {},
   "outputs": [
    {
     "name": "stdout",
     "output_type": "stream",
     "text": [
      "[[165349.2 136897.8 471784.1 0]\n",
      " [162597.7 151377.59 443898.53 1]\n",
      " [153441.51 101145.55 407934.54 2]\n",
      " [144372.41 118671.85 383199.62 0]\n",
      " [142107.34 91391.77 366168.42 2]\n",
      " [131876.9 99814.71 362861.36 0]\n",
      " [134615.46 147198.87 127716.82 1]\n",
      " [130298.13 145530.06 323876.68 2]\n",
      " [120542.52 148718.95 311613.29 0]\n",
      " [123334.88 108679.17 304981.62 1]\n",
      " [101913.08 110594.11 229160.95 2]\n",
      " [100671.96 91790.61 249744.55 1]\n",
      " [93863.75 127320.38 249839.44 2]\n",
      " [91992.39 135495.07 252664.93 1]\n",
      " [119943.24 156547.42 256512.92 2]\n",
      " [114523.61 122616.84 261776.23 0]\n",
      " [78013.11 121597.55 264346.06 1]\n",
      " [94657.16 145077.58 282574.31 0]\n",
      " [91749.16 114175.79 294919.57 2]\n",
      " [86419.7 153514.11 0.0 0]\n",
      " [76253.86 113867.3 298664.47 1]\n",
      " [78389.47 153773.43 299737.29 0]\n",
      " [73994.56 122782.75 303319.26 2]\n",
      " [67532.53 105751.03 304768.73 2]\n",
      " [77044.01 99281.34 140574.81 0]\n",
      " [64664.71 139553.16 137962.62 1]\n",
      " [75328.87 144135.98 134050.07 2]\n",
      " [72107.6 127864.55 353183.81 0]\n",
      " [66051.52 182645.56 118148.2 2]\n",
      " [65605.48 153032.06 107138.38 0]\n",
      " [61994.48 115641.28 91131.24 2]\n",
      " [61136.38 152701.92 88218.23 0]\n",
      " [63408.86 129219.61 46085.25 1]\n",
      " [55493.95 103057.49 214634.81 2]\n",
      " [46426.07 157693.92 210797.67 1]\n",
      " [46014.02 85047.44 205517.64 0]\n",
      " [28663.76 127056.21 201126.82 2]\n",
      " [44069.95 51283.14 197029.42 1]\n",
      " [20229.59 65947.93 185265.1 0]\n",
      " [38558.51 82982.09 174999.3 1]\n",
      " [28754.33 118546.05 172795.67 1]\n",
      " [27892.92 84710.77 164470.71 2]\n",
      " [23640.93 96189.63 148001.11 1]\n",
      " [15505.73 127382.3 35534.17 0]\n",
      " [22177.74 154806.14 28334.72 1]\n",
      " [1000.23 124153.04 1903.93 0]\n",
      " [1315.46 115816.21 297114.46 2]\n",
      " [0.0 135426.92 0.0 1]\n",
      " [542.05 51743.15 0.0 0]\n",
      " [0.0 116983.8 45173.06 1]]\n"
     ]
    }
   ],
   "source": [
    "print(X)"
   ]
  },
  {
   "cell_type": "code",
   "execution_count": 167,
   "metadata": {},
   "outputs": [],
   "source": [
    "\n",
    "\n",
    "from sklearn.preprocessing import StandardScaler\n",
    "sc_x = StandardScaler()\n",
    "X = sc_x.fit_transform(X)\n",
    "\n"
   ]
  },
  {
   "cell_type": "code",
   "execution_count": 168,
   "metadata": {},
   "outputs": [
    {
     "name": "stdout",
     "output_type": "stream",
     "text": [
      "[[ 2.01641149e+00  5.60752915e-01  2.15394309e+00 -1.20666232e+00]\n",
      " [ 1.95586034e+00  1.08280658e+00  1.92360040e+00  2.46257617e-02]\n",
      " [ 1.75436374e+00 -7.28257028e-01  1.62652767e+00  1.25591385e+00]\n",
      " [ 1.55478369e+00 -9.63646307e-02  1.42221024e+00 -1.20666232e+00]\n",
      " [ 1.50493720e+00 -1.07991935e+00  1.28152771e+00  1.25591385e+00]\n",
      " [ 1.27980001e+00 -7.76239071e-01  1.25421046e+00 -1.20666232e+00]\n",
      " [ 1.34006641e+00  9.32147208e-01 -6.88149930e-01  2.46257617e-02]\n",
      " [ 1.24505666e+00  8.71980011e-01  9.32185978e-01  1.25591385e+00]\n",
      " [ 1.03036886e+00  9.86952101e-01  8.30886909e-01 -1.20666232e+00]\n",
      " [ 1.09181921e+00 -4.56640246e-01  7.76107440e-01  2.46257617e-02]\n",
      " [ 6.20398248e-01 -3.87599089e-01  1.49807267e-01  1.25591385e+00]\n",
      " [ 5.93085418e-01 -1.06553960e+00  3.19833623e-01  2.46257617e-02]\n",
      " [ 4.43259872e-01  2.15449064e-01  3.20617441e-01  1.25591385e+00]\n",
      " [ 4.02077603e-01  5.10178953e-01  3.43956788e-01  2.46257617e-02]\n",
      " [ 1.01718075e+00  1.26919939e+00  3.75742273e-01  1.25591385e+00]\n",
      " [ 8.97913123e-01  4.58678535e-02  4.19218702e-01 -1.20666232e+00]\n",
      " [ 9.44411957e-02  9.11841968e-03  4.40446224e-01  2.46257617e-02]\n",
      " [ 4.60720127e-01  8.55666318e-01  5.91016724e-01 -1.20666232e+00]\n",
      " [ 3.96724938e-01 -2.58465367e-01  6.92992062e-01  1.25591385e+00]\n",
      " [ 2.79441650e-01  1.15983657e+00 -1.74312698e+00 -1.20666232e+00]\n",
      " [ 5.57260867e-02 -2.69587651e-01  7.23925995e-01  2.46257617e-02]\n",
      " [ 1.02723599e-01  1.16918609e+00  7.32787791e-01 -1.20666232e+00]\n",
      " [ 6.00657792e-03  5.18495648e-02  7.62375876e-01  1.25591385e+00]\n",
      " [-1.36200724e-01 -5.62211268e-01  7.74348908e-01  1.25591385e+00]\n",
      " [ 7.31146008e-02 -7.95469167e-01 -5.81939297e-01 -1.20666232e+00]\n",
      " [-1.99311688e-01  6.56489139e-01 -6.03516725e-01  2.46257617e-02]\n",
      " [ 3.53702028e-02  8.21717916e-01 -6.35835495e-01  1.25591385e+00]\n",
      " [-3.55189938e-02  2.35068543e-01  1.17427116e+00 -1.20666232e+00]\n",
      " [-1.68792717e-01  2.21014050e+00 -7.67189437e-01  1.25591385e+00]\n",
      " [-1.78608540e-01  1.14245677e+00 -8.58133663e-01 -1.20666232e+00]\n",
      " [-2.58074369e-01 -2.05628659e-01 -9.90357166e-01  1.25591385e+00]\n",
      " [-2.76958231e-01  1.13055391e+00 -1.01441945e+00 -1.20666232e+00]\n",
      " [-2.26948675e-01  2.83923813e-01 -1.36244978e+00  2.46257617e-02]\n",
      " [-4.01128925e-01 -6.59324033e-01  2.98172434e-02  1.25591385e+00]\n",
      " [-6.00682122e-01  1.31053525e+00 -1.87861793e-03  2.46257617e-02]\n",
      " [-6.09749941e-01 -1.30865753e+00 -4.54931587e-02 -1.20666232e+00]\n",
      " [-9.91570153e-01  2.05924691e-01 -8.17625734e-02  1.25591385e+00]\n",
      " [-6.52532310e-01 -2.52599402e+00 -1.15608256e-01  2.46257617e-02]\n",
      " [-1.17717755e+00 -1.99727037e+00 -2.12784866e-01 -1.20666232e+00]\n",
      " [-7.73820359e-01 -1.38312156e+00 -2.97583276e-01  2.46257617e-02]\n",
      " [-9.89577015e-01 -1.00900218e-01 -3.15785883e-01  2.46257617e-02]\n",
      " [-1.00853372e+00 -1.32079581e+00 -3.84552407e-01  1.25591385e+00]\n",
      " [-1.10210556e+00 -9.06937535e-01 -5.20595959e-01  2.46257617e-02]\n",
      " [-1.28113364e+00  2.17681524e-01 -1.44960468e+00 -1.20666232e+00]\n",
      " [-1.13430539e+00  1.20641936e+00 -1.50907418e+00  2.46257617e-02]\n",
      " [-1.60035036e+00  1.01253936e-01 -1.72739998e+00 -1.20666232e+00]\n",
      " [-1.59341322e+00 -1.99321741e-01  7.11122474e-01  1.25591385e+00]\n",
      " [-1.62236202e+00  5.07721876e-01 -1.74312698e+00  2.46257617e-02]\n",
      " [-1.61043334e+00 -2.50940884e+00 -1.74312698e+00 -1.20666232e+00]\n",
      " [-1.62236202e+00 -1.57225506e-01 -1.36998473e+00  2.46257617e-02]]\n"
     ]
    }
   ],
   "source": [
    "print(X)"
   ]
  },
  {
   "cell_type": "code",
   "execution_count": 169,
   "metadata": {},
   "outputs": [
    {
     "name": "stdout",
     "output_type": "stream",
     "text": [
      "[[ 2.01120333  1.99942997  1.98084225  1.77662724  1.35774012  1.12724963\n",
      "   1.10548055  1.09620987  1.00746967  0.94602247  0.85484675  0.80816756\n",
      "   0.74115484  0.55874952  0.51602637  0.44871967  0.3754357   0.33477114\n",
      "   0.307116    0.26977265  0.16193522 -0.01753384 -0.04161264 -0.08216943\n",
      "  -0.08672946 -0.11549309 -0.15736664 -0.17554233 -0.21879755 -0.27588222\n",
      "  -0.3026246  -0.36412744 -0.36552389 -0.38178711 -0.38344421 -0.38929092\n",
      "  -0.53393161 -0.5529549  -0.77149734 -0.77709368 -0.84641135 -0.85746568\n",
      "  -1.01536466 -1.05896021 -1.17320899 -1.18008224 -1.56692212 -1.74062718\n",
      "  -1.91321197 -2.43931323]]\n"
     ]
    }
   ],
   "source": [
    "print(Y)"
   ]
  },
  {
   "cell_type": "code",
   "execution_count": null,
   "metadata": {},
   "outputs": [],
   "source": []
  },
  {
   "cell_type": "code",
   "execution_count": 185,
   "metadata": {},
   "outputs": [],
   "source": [
    "m = 40\n",
    "f = 2\n",
    "X_train = X[:m,:]\n",
    "# X_train = np.c_[np.ones(len(X_train),dtype='int64'),X_train]\n",
    "y_train = Y[0][:m]\n",
    "X_test = X[m:,:]\n",
    "# X_test = np.c_[np.ones(len(X_test),dtype='int64'),X_test]\n",
    "y_test = Y[0][m:]"
   ]
  },
  {
   "cell_type": "code",
   "execution_count": 186,
   "metadata": {},
   "outputs": [
    {
     "name": "stdout",
     "output_type": "stream",
     "text": [
      "[ 2.01120333  1.99942997  1.98084225  1.77662724  1.35774012  1.12724963\n",
      "  1.10548055  1.09620987  1.00746967  0.94602247  0.85484675  0.80816756\n",
      "  0.74115484  0.55874952  0.51602637  0.44871967  0.3754357   0.33477114\n",
      "  0.307116    0.26977265  0.16193522 -0.01753384 -0.04161264 -0.08216943\n",
      " -0.08672946 -0.11549309 -0.15736664 -0.17554233 -0.21879755 -0.27588222\n",
      " -0.3026246  -0.36412744 -0.36552389 -0.38178711 -0.38344421 -0.38929092\n",
      " -0.53393161 -0.5529549  -0.77149734 -0.77709368]\n"
     ]
    }
   ],
   "source": [
    "print(y_train)"
   ]
  },
  {
   "cell_type": "code",
   "execution_count": 187,
   "metadata": {},
   "outputs": [
    {
     "name": "stdout",
     "output_type": "stream",
     "text": [
      "[-0.84641135 -0.85746568 -1.01536466 -1.05896021 -1.17320899 -1.18008224\n",
      " -1.56692212 -1.74062718 -1.91321197 -2.43931323]\n"
     ]
    }
   ],
   "source": [
    "print(y_test)"
   ]
  },
  {
   "cell_type": "code",
   "execution_count": 188,
   "metadata": {},
   "outputs": [
    {
     "name": "stdout",
     "output_type": "stream",
     "text": [
      "[[ 2.01641149e+00  5.60752915e-01  2.15394309e+00 -1.20666232e+00]\n",
      " [ 1.95586034e+00  1.08280658e+00  1.92360040e+00  2.46257617e-02]\n",
      " [ 1.75436374e+00 -7.28257028e-01  1.62652767e+00  1.25591385e+00]\n",
      " [ 1.55478369e+00 -9.63646307e-02  1.42221024e+00 -1.20666232e+00]\n",
      " [ 1.50493720e+00 -1.07991935e+00  1.28152771e+00  1.25591385e+00]\n",
      " [ 1.27980001e+00 -7.76239071e-01  1.25421046e+00 -1.20666232e+00]\n",
      " [ 1.34006641e+00  9.32147208e-01 -6.88149930e-01  2.46257617e-02]\n",
      " [ 1.24505666e+00  8.71980011e-01  9.32185978e-01  1.25591385e+00]\n",
      " [ 1.03036886e+00  9.86952101e-01  8.30886909e-01 -1.20666232e+00]\n",
      " [ 1.09181921e+00 -4.56640246e-01  7.76107440e-01  2.46257617e-02]\n",
      " [ 6.20398248e-01 -3.87599089e-01  1.49807267e-01  1.25591385e+00]\n",
      " [ 5.93085418e-01 -1.06553960e+00  3.19833623e-01  2.46257617e-02]\n",
      " [ 4.43259872e-01  2.15449064e-01  3.20617441e-01  1.25591385e+00]\n",
      " [ 4.02077603e-01  5.10178953e-01  3.43956788e-01  2.46257617e-02]\n",
      " [ 1.01718075e+00  1.26919939e+00  3.75742273e-01  1.25591385e+00]\n",
      " [ 8.97913123e-01  4.58678535e-02  4.19218702e-01 -1.20666232e+00]\n",
      " [ 9.44411957e-02  9.11841968e-03  4.40446224e-01  2.46257617e-02]\n",
      " [ 4.60720127e-01  8.55666318e-01  5.91016724e-01 -1.20666232e+00]\n",
      " [ 3.96724938e-01 -2.58465367e-01  6.92992062e-01  1.25591385e+00]\n",
      " [ 2.79441650e-01  1.15983657e+00 -1.74312698e+00 -1.20666232e+00]\n",
      " [ 5.57260867e-02 -2.69587651e-01  7.23925995e-01  2.46257617e-02]\n",
      " [ 1.02723599e-01  1.16918609e+00  7.32787791e-01 -1.20666232e+00]\n",
      " [ 6.00657792e-03  5.18495648e-02  7.62375876e-01  1.25591385e+00]\n",
      " [-1.36200724e-01 -5.62211268e-01  7.74348908e-01  1.25591385e+00]\n",
      " [ 7.31146008e-02 -7.95469167e-01 -5.81939297e-01 -1.20666232e+00]\n",
      " [-1.99311688e-01  6.56489139e-01 -6.03516725e-01  2.46257617e-02]\n",
      " [ 3.53702028e-02  8.21717916e-01 -6.35835495e-01  1.25591385e+00]\n",
      " [-3.55189938e-02  2.35068543e-01  1.17427116e+00 -1.20666232e+00]\n",
      " [-1.68792717e-01  2.21014050e+00 -7.67189437e-01  1.25591385e+00]\n",
      " [-1.78608540e-01  1.14245677e+00 -8.58133663e-01 -1.20666232e+00]\n",
      " [-2.58074369e-01 -2.05628659e-01 -9.90357166e-01  1.25591385e+00]\n",
      " [-2.76958231e-01  1.13055391e+00 -1.01441945e+00 -1.20666232e+00]\n",
      " [-2.26948675e-01  2.83923813e-01 -1.36244978e+00  2.46257617e-02]\n",
      " [-4.01128925e-01 -6.59324033e-01  2.98172434e-02  1.25591385e+00]\n",
      " [-6.00682122e-01  1.31053525e+00 -1.87861793e-03  2.46257617e-02]\n",
      " [-6.09749941e-01 -1.30865753e+00 -4.54931587e-02 -1.20666232e+00]\n",
      " [-9.91570153e-01  2.05924691e-01 -8.17625734e-02  1.25591385e+00]\n",
      " [-6.52532310e-01 -2.52599402e+00 -1.15608256e-01  2.46257617e-02]\n",
      " [-1.17717755e+00 -1.99727037e+00 -2.12784866e-01 -1.20666232e+00]\n",
      " [-7.73820359e-01 -1.38312156e+00 -2.97583276e-01  2.46257617e-02]]\n"
     ]
    }
   ],
   "source": [
    "print(X_train)"
   ]
  },
  {
   "cell_type": "code",
   "execution_count": 189,
   "metadata": {},
   "outputs": [],
   "source": [
    "def cost_function(X, Y, B):\n",
    "    m = len(Y)\n",
    "    J = np.sum((X.dot(B)-Y)**2)/(2*m)\n",
    "    return J"
   ]
  },
  {
   "cell_type": "code",
   "execution_count": 190,
   "metadata": {},
   "outputs": [
    {
     "name": "stdout",
     "output_type": "stream",
     "text": [
      "[0. 0. 0. 0. 0. 0. 0. 0. 0. 0. 0. 0. 0. 0. 0. 0. 0. 0. 0. 0. 0. 0. 0. 0.\n",
      " 0. 0. 0. 0. 0. 0. 0. 0. 0. 0. 0. 0. 0. 0. 0. 0.]\n"
     ]
    }
   ],
   "source": [
    "B = np.zeros(X_train.shape[1])\n",
    "print(X_train.dot(B))"
   ]
  },
  {
   "cell_type": "code",
   "execution_count": 191,
   "metadata": {},
   "outputs": [],
   "source": [
    "def batch_gradient_descent(X, Y, B, alpha, iterations):\n",
    "    cost_history = [0] * iterations\n",
    "    m = len(Y)\n",
    "    cost = 0\n",
    "    for iteration in range(iterations):\n",
    "         #print(iteration)\n",
    "     # Hypothesis Values\n",
    "         h = X.dot(B)\n",
    "     # Difference b/w Hypothesis and Actual Y\n",
    "         loss = h - Y\n",
    "     # Gradient Calculation\n",
    "         gradient = X.T.dot(loss) / m\n",
    "     # Changing Values of B using Gradient\n",
    "         B = B - alpha * gradient\n",
    "     # New Cost Value\n",
    "         cost = cost_function(X, Y, B)\n",
    "         cost_history[iteration] = cost\n",
    "    return B, cost_history"
   ]
  },
  {
   "cell_type": "code",
   "execution_count": 192,
   "metadata": {},
   "outputs": [],
   "source": [
    "B = np.zeros(X_train.shape[1])\n",
    "alpha = 0.005\n",
    "iter_ = 2000\n",
    "final, cost_history = batch_gradient_descent(X_train, y_train, B, alpha, iter_)"
   ]
  },
  {
   "cell_type": "code",
   "execution_count": 193,
   "metadata": {},
   "outputs": [
    {
     "data": {
      "text/plain": [
       "[<matplotlib.lines.Line2D at 0x1719dfed970>]"
      ]
     },
     "execution_count": 193,
     "metadata": {},
     "output_type": "execute_result"
    },
    {
     "data": {
      "image/png": "[encoded data removed]",
      "text/plain": [
       "<Figure size 432x288 with 1 Axes>"
      ]
     },
     "metadata": {
      "needs_background": "light"
     },
     "output_type": "display_data"
    }
   ],
   "source": [
    "plt.plot(cost_history)"
   ]
  },
  {
   "cell_type": "code",
   "execution_count": 195,
   "metadata": {},
   "outputs": [
    {
     "name": "stdout",
     "output_type": "stream",
     "text": [
      "[ 0.83013694 -0.01644268  0.1333917   0.01434757]\n"
     ]
    }
   ],
   "source": [
    "print(final)"
   ]
  }
 ],
 "metadata": {
  "kernelspec": {
   "display_name": "Python 3",
   "language": "python",
   "name": "python3"
  },
  "language_info": {
   "codemirror_mode": {
    "name": "ipython",
    "version": 3
   },
   "file_extension": ".py",
   "mimetype": "text/x-python",
   "name": "python",
   "nbconvert_exporter": "python",
   "pygments_lexer": "ipython3",
   "version": "3.8.5"
  }
 },
 "nbformat": 4,
 "nbformat_minor": 4
}

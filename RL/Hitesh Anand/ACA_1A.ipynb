{
 "cells": [
  {
   "cell_type": "code",
   "execution_count": 10,
   "metadata": {},
   "outputs": [],
   "source": [
    "#1 MATRIX ADDITION"
   ]
  },
  {
   "cell_type": "code",
   "execution_count": null,
   "metadata": {},
   "outputs": [],
   "source": [
    "#1a without numpy"
   ]
  },
  {
   "cell_type": "code",
   "execution_count": 39,
   "metadata": {},
   "outputs": [],
   "source": [
    "def matrixAdd(a, b):\n",
    "    for i in range(0, len(a)):\n",
    "        for j in range(0, len(a[0])):\n",
    "            c = [[a[i][j] + b[i][j] for j in range(len(a[0]))] for i in range(len(a))]\n",
    "    for r in c:\n",
    "        print(r)\n",
    "    "
   ]
  },
  {
   "cell_type": "code",
   "execution_count": 40,
   "metadata": {},
   "outputs": [
    {
     "name": "stdout",
     "output_type": "stream",
     "text": [
      "[1, 3, 5]\n",
      "[6, 8, 10]\n",
      "[11, 13, 15]\n"
     ]
    }
   ],
   "source": [
    "a = [[1,2,3],[4,5,6],[7,8,9]]\n",
    "b = [[0,1,2],[2,3,4],[4,5,6]]\n",
    "matrixAdd(a,b)"
   ]
  },
  {
   "cell_type": "code",
   "execution_count": 41,
   "metadata": {},
   "outputs": [
    {
     "name": "stdout",
     "output_type": "stream",
     "text": [
      "[3, 5, 7, 9]\n",
      "[6, 8, 10, 12]\n"
     ]
    }
   ],
   "source": [
    "c = [[2,3,4,5],[1,2,3,4]]\n",
    "d = [[1,2,3,4], [5,6,7,8]]\n",
    "matrixAdd(c,d)"
   ]
  },
  {
   "cell_type": "code",
   "execution_count": null,
   "metadata": {},
   "outputs": [],
   "source": [
    "#2 with numpy"
   ]
  },
  {
   "cell_type": "code",
   "execution_count": 42,
   "metadata": {},
   "outputs": [],
   "source": [
    "import numpy as np"
   ]
  },
  {
   "cell_type": "code",
   "execution_count": 43,
   "metadata": {},
   "outputs": [
    {
     "data": {
      "text/plain": [
       "array([[ 3,  5,  7,  9],\n",
       "       [ 6,  8, 10, 12]])"
      ]
     },
     "execution_count": 43,
     "metadata": {},
     "output_type": "execute_result"
    }
   ],
   "source": [
    "a = np.array([[2,3,4,5],[1,2,3,4]])\n",
    "b = np.array([[1,2,3,4],[5,6,7,8]])\n",
    "c = np.add(a,b)\n",
    "c"
   ]
  },
  {
   "cell_type": "code",
   "execution_count": 44,
   "metadata": {},
   "outputs": [],
   "source": [
    "#2 matrix multiplication"
   ]
  },
  {
   "cell_type": "code",
   "execution_count": 45,
   "metadata": {},
   "outputs": [],
   "source": [
    "#2a without numpy"
   ]
  },
  {
   "cell_type": "code",
   "execution_count": 74,
   "metadata": {},
   "outputs": [],
   "source": [
    "def matrixMul(a,b):\n",
    "    sum = 0\n",
    "    c = []\n",
    "    \n",
    "    #initialising the array to 0\n",
    "    for i in range(len(a)):\n",
    "        col = []\n",
    "        for j in range(len(b[0])):\n",
    "            col.append(0)\n",
    "        c.append(col)\n",
    "    \n",
    "    #performing multiplication\n",
    "    for i in range(len(a)):\n",
    "        for j in range(len(b[0])):\n",
    "            for k in range(len(a[0])):\n",
    "                sum = sum+a[i][k]*b[k][j]\n",
    "            c[i][j] = sum\n",
    "            sum = 0\n",
    "    print(c)"
   ]
  },
  {
   "cell_type": "code",
   "execution_count": 75,
   "metadata": {},
   "outputs": [
    {
     "name": "stdout",
     "output_type": "stream",
     "text": [
      "[[2, 3, 1], [3, 2, 1], [4, 3, 1]]\n"
     ]
    }
   ],
   "source": [
    "a = [[2,3,1],[3,2,1],[4,3,1]]\n",
    "b = [[1,0,0],[0,1,0],[0,0,1]]\n",
    "matrixMul(a,b)"
   ]
  },
  {
   "cell_type": "code",
   "execution_count": null,
   "metadata": {},
   "outputs": [],
   "source": [
    "#2b using numpy"
   ]
  },
  {
   "cell_type": "code",
   "execution_count": 80,
   "metadata": {},
   "outputs": [
    {
     "name": "stdout",
     "output_type": "stream",
     "text": [
      "[[2 0 0]\n",
      " [0 2 0]\n",
      " [0 0 1]]\n",
      "[[2 0 0]\n",
      " [0 2 0]\n",
      " [0 0 1]]\n"
     ]
    }
   ],
   "source": [
    "# following code multiplies corresponding elements of two matrices\n",
    "c = np.array([[2,3,1],[3,2,1],[4,3,1]])\n",
    "d = np.array([[1,0,0],[0,1,0],[0,0,1]])\n",
    "print(c*d)\n",
    "print(np.multiply(a,b))\n"
   ]
  },
  {
   "cell_type": "code",
   "execution_count": 81,
   "metadata": {},
   "outputs": [
    {
     "name": "stdout",
     "output_type": "stream",
     "text": [
      "[[2 3 1]\n",
      " [3 2 1]\n",
      " [4 3 1]]\n"
     ]
    }
   ],
   "source": [
    "print(np.dot(a,b))"
   ]
  },
  {
   "cell_type": "code",
   "execution_count": null,
   "metadata": {},
   "outputs": [],
   "source": [
    "#3 inverse of a matrix"
   ]
  },
  {
   "cell_type": "code",
   "execution_count": null,
   "metadata": {},
   "outputs": [],
   "source": [
    "#3a without numpy"
   ]
  },
  {
   "cell_type": "code",
   "execution_count": 82,
   "metadata": {},
   "outputs": [],
   "source": [
    "#defining the function to get the minor matrix after excluding i-th row and j-th column\n",
    "def getcofactor(a, i, j):\n",
    "    return [row[:j] + row[j+1:] for row in (a[:i] + a[i+1:])]"
   ]
  },
  {
   "cell_type": "code",
   "execution_count": 83,
   "metadata": {},
   "outputs": [],
   "source": [
    "def determinant(a):\n",
    "    #if order is 2 then simple cross multiplication:\n",
    "    if len(a) == 2:\n",
    "        return a[0][0]*a[1][1] - a[0][1]*a[1][0]\n",
    "    \n",
    "    sum = 0\n",
    "    \n",
    "    #loop to traverse each column of matrix a.\n",
    "    \n",
    "    for curr_col in range(len(a)):\n",
    "        \n",
    "        sign = (-1)**(curr_col)\n",
    "        \n",
    "        sub_det = determinant(getcofactor(a,0,curr_col))\n",
    "        \n",
    "        sum+= (sign*a[0][curr_col]*sub_det)\n",
    "        \n",
    "    return sum"
   ]
  },
  {
   "cell_type": "code",
   "execution_count": 86,
   "metadata": {},
   "outputs": [
    {
     "name": "stdout",
     "output_type": "stream",
     "text": [
      "16\n"
     ]
    }
   ],
   "source": [
    "a = [[2,0,0,0],[0,2,0,0],[0,0,2,0],[0,0,0,2]]\n",
    "print(determinant(a))"
   ]
  },
  {
   "cell_type": "code",
   "execution_count": 95,
   "metadata": {},
   "outputs": [],
   "source": [
    "def cofactor(a):\n",
    "    b = []\n",
    "    \n",
    "    for i in range(len(a)):\n",
    "        col=[]\n",
    "        for j in range(len(a[0])):\n",
    "            col.append(0)\n",
    "        b.append(col)\n",
    "        \n",
    "    for i in range(len(a)):\n",
    "        for j in range(len(a[0])):\n",
    "            sign = (-1)**(i+j)\n",
    "            b[i][j] = sign*determinant(getcofactor(a,i,j))\n",
    "            \n",
    "    return b"
   ]
  },
  {
   "cell_type": "code",
   "execution_count": 96,
   "metadata": {},
   "outputs": [
    {
     "name": "stdout",
     "output_type": "stream",
     "text": [
      "[[-1, 2, -1], [2, -4, 1], [1, -3, 1]]\n"
     ]
    }
   ],
   "source": [
    "a = [[1,1,2],[-1,0,1],[2,1,0]]\n",
    "b = cofactor(a)\n",
    "print(b)"
   ]
  },
  {
   "cell_type": "code",
   "execution_count": 97,
   "metadata": {},
   "outputs": [],
   "source": [
    "def transpose(a):\n",
    "    for i in range(len(a)):\n",
    "        for j in range(len(a[0])):\n",
    "            if i==j:\n",
    "                break\n",
    "            t = a[i][j]\n",
    "            a[i][j] = a[j][i]\n",
    "            a[j][i] = t\n",
    "            \n",
    "    return a"
   ]
  },
  {
   "cell_type": "code",
   "execution_count": 98,
   "metadata": {},
   "outputs": [
    {
     "name": "stdout",
     "output_type": "stream",
     "text": [
      "[[1, -1, 2], [1, 0, 1], [2, 1, 0]]\n"
     ]
    }
   ],
   "source": [
    "b = a\n",
    "b = transpose(b)\n",
    "print(b)"
   ]
  },
  {
   "cell_type": "code",
   "execution_count": 105,
   "metadata": {},
   "outputs": [],
   "source": [
    "def inverse(a):\n",
    "    cof = cofactor(a)\n",
    "    adj = transpose(cof)\n",
    "    det = determinant(a)\n",
    "    inv = []\n",
    "    for i in range(len(a)):\n",
    "        col = []\n",
    "        for j in range(len(a[0])):\n",
    "            col.append(0)\n",
    "        inv.append(col)\n",
    "        \n",
    "        \n",
    "    for i in range(len(a)):\n",
    "        for j in range(len(a[0])):\n",
    "            inv[i][j] = adj[i][j]/det\n",
    "    \n",
    "    return inv"
   ]
  },
  {
   "cell_type": "code",
   "execution_count": 106,
   "metadata": {},
   "outputs": [
    {
     "name": "stdout",
     "output_type": "stream",
     "text": [
      "The matrix is  [[1, 1, 2], [-1, 0, 1], [2, 1, 0]]\n",
      "transpose of the matrix is  [[1, -1, 2], [1, 0, 1], [2, 1, 0]]\n",
      "cofactor matrix of a is  [[-1, 2, 1], [2, -4, -3], [-1, 1, 1]]\n",
      "Determinant of the matrix is  -1\n",
      "Adjoint of the matrix is  [[-1, 2, -1], [2, -4, 1], [1, -3, 1]]\n",
      "Inverse of the matrix is  [[1.0, -2.0, 1.0], [-2.0, 4.0, -1.0], [-1.0, 3.0, -1.0]]\n"
     ]
    }
   ],
   "source": [
    "print(\"The matrix is \", a)\n",
    "print(\"transpose of the matrix is \", transpose(a))\n",
    "print(\"cofactor matrix of a is \", cofactor(a))\n",
    "print(\"Determinant of the matrix is \", determinant(a))\n",
    "print(\"Adjoint of the matrix is \", transpose(cofactor(a)))\n",
    "print(\"Inverse of the matrix is \", inverse(a))"
   ]
  },
  {
   "cell_type": "code",
   "execution_count": 107,
   "metadata": {},
   "outputs": [],
   "source": [
    "#3b using numpy"
   ]
  },
  {
   "cell_type": "code",
   "execution_count": 112,
   "metadata": {},
   "outputs": [
    {
     "name": "stdout",
     "output_type": "stream",
     "text": [
      "The matrix is \n",
      "[[ 1  1  2]\n",
      " [-1  0  1]\n",
      " [ 2  1  0]]\n",
      "transpose of the matrix is  [[ 1 -1  2]\n",
      " [ 1  0  1]\n",
      " [ 2  1  0]]\n",
      "cofactor matrix of a is  [[ 1  1  2]\n",
      " [-1  0  1]\n",
      " [ 2  1  0]]\n",
      "Determinant of the matrix is  -1.0\n",
      "Adjoint of the matrix is  [[ 1 -1  2]\n",
      " [ 1  0  1]\n",
      " [ 2  1  0]]\n",
      "Inverse of the matrix is  [[ 1. -2. -1.]\n",
      " [-2.  4.  3.]\n",
      " [ 1. -1. -1.]]\n"
     ]
    }
   ],
   "source": [
    "a = np.array([[1,1,2],[-1,0,1],[2,1,0]])\n",
    "print(\"The matrix is \")\n",
    "print(a)\n",
    "print(\"transpose of the matrix is \", np.matrix.transpose(a))\n",
    "print(\"cofactor matrix of a is \", np.matrix.transpose(np.matrix.getH(a)))\n",
    "print(\"Determinant of the matrix is \", np.linalg.det(a))\n",
    "print(\"Adjoint of the matrix is \", np.matrix.getH(a))\n",
    "print(\"Inverse of the matrix is \", np.linalg.inv(a))"
   ]
  },
  {
   "cell_type": "code",
   "execution_count": null,
   "metadata": {},
   "outputs": [],
   "source": []
  }
 ],
 "metadata": {
  "kernelspec": {
   "display_name": "Python 3",
   "language": "python",
   "name": "python3"
  },
  "language_info": {
   "codemirror_mode": {
    "name": "ipython",
    "version": 3
   },
   "file_extension": ".py",
   "mimetype": "text/x-python",
   "name": "python",
   "nbconvert_exporter": "python",
   "pygments_lexer": "ipython3",
   "version": "3.8.5"
  }
 },
 "nbformat": 4,
 "nbformat_minor": 4
}
